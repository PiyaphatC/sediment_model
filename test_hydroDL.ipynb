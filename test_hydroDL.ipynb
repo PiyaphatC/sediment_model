{
 "cells": [
  {
   "cell_type": "code",
   "execution_count": 1,
   "id": "qualified-accessory",
   "metadata": {},
   "outputs": [
    {
     "name": "stdout",
     "output_type": "stream",
     "text": [
      "loading package hydroDL\n"
     ]
    }
   ],
   "source": [
    "import sys\n",
    "sys.path.append('../')\n",
    "from hydroDL import master, utils\n",
    "from hydroDL.master import default\n",
    "import matplotlib.pyplot as plt\n",
    "from hydroDL.data import camels\n",
    "from hydroDL.model import rnn, crit, train\n",
    "from hydroDL.post import plot, stat\n",
    "\n",
    "\n",
    "import numpy as np\n",
    "import os\n",
    "import torch\n",
    "import pandas as pd\n",
    "import math\n",
    "import random"
   ]
  },
  {
   "cell_type": "code",
   "execution_count": null,
   "id": "small-evans",
   "metadata": {},
   "outputs": [],
   "source": [
    "import numpy as np"
   ]
  },
  {
   "cell_type": "code",
   "execution_count": null,
   "metadata": {},
   "outputs": [],
   "source": [
    "f = np.load(os.path.join('/data/pmc5570/Sediment_model/Sed/FirstRun/epochs500_batch60_rho365_hiddensize200_Tstart19800101_Tend20101231/All-1980-2010/x.npy'))  \n"
   ]
  },
  {
   "cell_type": "code",
   "execution_count": null,
   "metadata": {},
   "outputs": [],
   "source": [
    "S = (f[:, :, 1] + f[:, :, 1]) / 2  "
   ]
  }
 ],
 "metadata": {
  "kernelspec": {
   "display_name": "Python 3",
   "language": "python",
   "name": "python3"
  },
  "language_info": {
   "codemirror_mode": {
    "name": "ipython",
    "version": 3
   },
   "file_extension": ".py",
   "mimetype": "text/x-python",
   "name": "python",
   "nbconvert_exporter": "python",
   "pygments_lexer": "ipython3",
   "version": "3.6.6"
  }
 },
 "nbformat": 4,
 "nbformat_minor": 5
}